{
 "cells": [
  {
   "cell_type": "markdown",
   "metadata": {
    "colab_type": "text",
    "id": "kR-4eNdK6lYS"
   },
   "source": [
    "Deep Learning\n",
    "=============\n",
    "\n",
    "Assignment 3\n",
    "------------\n",
    "\n",
    "Previously in `2_fullyconnected.ipynb`, you trained a logistic regression and a neural network model.\n",
    "\n",
    "The goal of this assignment is to explore regularization techniques."
   ]
  },
  {
   "cell_type": "code",
   "execution_count": 1,
   "metadata": {
    "cellView": "both",
    "colab": {
     "autoexec": {
      "startup": false,
      "wait_interval": 0
     }
    },
    "colab_type": "code",
    "collapsed": true,
    "id": "JLpLa8Jt7Vu4"
   },
   "outputs": [],
   "source": [
    "# These are all the modules we'll be using later. Make sure you can import them\n",
    "# before proceeding further.\n",
    "from __future__ import print_function\n",
    "import numpy as np\n",
    "import tensorflow as tf\n",
    "from six.moves import cPickle as pickle"
   ]
  },
  {
   "cell_type": "markdown",
   "metadata": {
    "colab_type": "text",
    "id": "1HrCK6e17WzV"
   },
   "source": [
    "First reload the data we generated in `1_notmnist.ipynb`."
   ]
  },
  {
   "cell_type": "code",
   "execution_count": 2,
   "metadata": {
    "cellView": "both",
    "colab": {
     "autoexec": {
      "startup": false,
      "wait_interval": 0
     },
     "output_extras": [
      {
       "item_id": 1
      }
     ]
    },
    "colab_type": "code",
    "executionInfo": {
     "elapsed": 11777,
     "status": "ok",
     "timestamp": 1449849322348,
     "user": {
      "color": "",
      "displayName": "",
      "isAnonymous": false,
      "isMe": true,
      "permissionId": "",
      "photoUrl": "",
      "sessionId": "0",
      "userId": ""
     },
     "user_tz": 480
    },
    "id": "y3-cj1bpmuxc",
    "outputId": "e03576f1-ebbe-4838-c388-f1777bcc9873"
   },
   "outputs": [
    {
     "name": "stdout",
     "output_type": "stream",
     "text": [
      "Training set (200000, 28, 28) (200000,)\n",
      "Validation set (10000, 28, 28) (10000,)\n",
      "Test set (10000, 28, 28) (10000,)\n"
     ]
    }
   ],
   "source": [
    "pickle_file = 'notMNIST.pickle'\n",
    "\n",
    "with open(pickle_file, 'rb') as f:\n",
    "  save = pickle.load(f)\n",
    "  train_dataset = save['train_dataset']\n",
    "  train_labels = save['train_labels']\n",
    "  valid_dataset = save['valid_dataset']\n",
    "  valid_labels = save['valid_labels']\n",
    "  test_dataset = save['test_dataset']\n",
    "  test_labels = save['test_labels']\n",
    "  del save  # hint to help gc free up memory\n",
    "  print('Training set', train_dataset.shape, train_labels.shape)\n",
    "  print('Validation set', valid_dataset.shape, valid_labels.shape)\n",
    "  print('Test set', test_dataset.shape, test_labels.shape)"
   ]
  },
  {
   "cell_type": "markdown",
   "metadata": {
    "colab_type": "text",
    "id": "L7aHrm6nGDMB"
   },
   "source": [
    "Reformat into a shape that's more adapted to the models we're going to train:\n",
    "- data as a flat matrix,\n",
    "- labels as float 1-hot encodings."
   ]
  },
  {
   "cell_type": "code",
   "execution_count": 3,
   "metadata": {
    "cellView": "both",
    "colab": {
     "autoexec": {
      "startup": false,
      "wait_interval": 0
     },
     "output_extras": [
      {
       "item_id": 1
      }
     ]
    },
    "colab_type": "code",
    "executionInfo": {
     "elapsed": 11728,
     "status": "ok",
     "timestamp": 1449849322356,
     "user": {
      "color": "",
      "displayName": "",
      "isAnonymous": false,
      "isMe": true,
      "permissionId": "",
      "photoUrl": "",
      "sessionId": "0",
      "userId": ""
     },
     "user_tz": 480
    },
    "id": "IRSyYiIIGIzS",
    "outputId": "3f8996ee-3574-4f44-c953-5c8a04636582"
   },
   "outputs": [
    {
     "name": "stdout",
     "output_type": "stream",
     "text": [
      "Training set (200000, 784) (200000, 10)\n",
      "Validation set (10000, 784) (10000, 10)\n",
      "Test set (10000, 784) (10000, 10)\n"
     ]
    }
   ],
   "source": [
    "image_size = 28\n",
    "num_labels = 10\n",
    "\n",
    "def reformat(dataset, labels):\n",
    "  dataset = dataset.reshape((-1, image_size * image_size)).astype(np.float32)\n",
    "  # Map 1 to [0.0, 1.0, 0.0 ...], 2 to [0.0, 0.0, 1.0 ...]\n",
    "  labels = (np.arange(num_labels) == labels[:,None]).astype(np.float32)\n",
    "  return dataset, labels\n",
    "train_dataset, train_labels = reformat(train_dataset, train_labels)\n",
    "valid_dataset, valid_labels = reformat(valid_dataset, valid_labels)\n",
    "test_dataset, test_labels = reformat(test_dataset, test_labels)\n",
    "print('Training set', train_dataset.shape, train_labels.shape)\n",
    "print('Validation set', valid_dataset.shape, valid_labels.shape)\n",
    "print('Test set', test_dataset.shape, test_labels.shape)"
   ]
  },
  {
   "cell_type": "code",
   "execution_count": 4,
   "metadata": {
    "cellView": "both",
    "colab": {
     "autoexec": {
      "startup": false,
      "wait_interval": 0
     }
    },
    "colab_type": "code",
    "collapsed": true,
    "id": "RajPLaL_ZW6w"
   },
   "outputs": [],
   "source": [
    "def accuracy(predictions, labels):\n",
    "  return (100.0 * np.sum(np.argmax(predictions, 1) == np.argmax(labels, 1))\n",
    "          / predictions.shape[0])"
   ]
  },
  {
   "cell_type": "markdown",
   "metadata": {
    "colab_type": "text",
    "id": "sgLbUAQ1CW-1"
   },
   "source": [
    "---\n",
    "Problem 1\n",
    "---------\n",
    "\n",
    "Introduce and tune L2 regularization for both logistic and neural network models. Remember that L2 amounts to adding a penalty on the norm of the weights to the loss. In TensorFlow, you can compute the L2 loss for a tensor `t` using `nn.l2_loss(t)`. The right amount of regularization should improve your validation / test accuracy.\n",
    "\n",
    "---"
   ]
  },
  {
   "cell_type": "markdown",
   "metadata": {},
   "source": [
    "### Simplr GD Logistic Regression through Linear Regression and Softmax w L2 regularisation"
   ]
  },
  {
   "cell_type": "code",
   "execution_count": 32,
   "metadata": {
    "collapsed": true
   },
   "outputs": [],
   "source": [
    "# With gradient descent training, even this much data is prohibitive.\n",
    "# Subset the training data for faster turnaround.\n",
    "train_subset = 10000\n",
    "beta = 0.005  # parameter to tune for l2 reguraliser  - best value is 0.005 = 88.4\n",
    "\n",
    "graph = tf.Graph()\n",
    "with graph.as_default():\n",
    "\n",
    "  # Input data.\n",
    "  # Load the training, validation and test data into constants that are\n",
    "  # attached to the graph.\n",
    "  tf_train_dataset = tf.constant(train_dataset[:train_subset, :])\n",
    "  tf_train_labels = tf.constant(train_labels[:train_subset])\n",
    "  tf_valid_dataset = tf.constant(valid_dataset)\n",
    "  tf_test_dataset = tf.constant(test_dataset)\n",
    "  \n",
    "  # Variables.\n",
    "  # These are the parameters that we are going to be training. The weight\n",
    "  # matrix will be initialized using random values following a (truncated)\n",
    "  # normal distribution. The biases get initialized to zero.\n",
    "  weights = tf.Variable(\n",
    "    tf.truncated_normal([image_size * image_size, num_labels]))\n",
    "  biases = tf.Variable(tf.zeros([num_labels]))\n",
    "  \n",
    "  # Training computation.\n",
    "  # We multiply the inputs with the weight matrix, and add biases. We compute\n",
    "  # the softmax and cross-entropy (it's one operation in TensorFlow, because\n",
    "  # it's very common, and it can be optimized). We take the average of this\n",
    "  # cross-entropy across all training examples: that's our loss.\n",
    "  logits = tf.matmul(tf_train_dataset, weights) + biases\n",
    "  loss = tf.reduce_mean(\n",
    "    tf.nn.softmax_cross_entropy_with_logits(labels=tf_train_labels, logits=logits))\n",
    "    \n",
    "  # Adding regularisation l2\n",
    "  regularizers = (tf.nn.l2_loss(weights) + tf.nn.l2_loss(biases))\n",
    "  # Add the regularization term to the loss.\n",
    "  loss += beta * regularizers\n",
    "  \n",
    "  # Optimizer.\n",
    "  # We are going to find the minimum of this loss using gradient descent.\n",
    "  optimizer = tf.train.GradientDescentOptimizer(0.5).minimize(loss)\n",
    "  \n",
    "  # Predictions for the training, validation, and test data.\n",
    "  # These are not part of training, but merely here so that we can report\n",
    "  # accuracy figures as we train.\n",
    "  train_prediction = tf.nn.softmax(logits)\n",
    "  valid_prediction = tf.nn.softmax(\n",
    "    tf.matmul(tf_valid_dataset, weights) + biases)\n",
    "  test_prediction = tf.nn.softmax(tf.matmul(tf_test_dataset, weights) + biases)"
   ]
  },
  {
   "cell_type": "code",
   "execution_count": 33,
   "metadata": {},
   "outputs": [
    {
     "name": "stdout",
     "output_type": "stream",
     "text": [
      "Initialized\n",
      "Loss at step 0: 30.772821\n",
      "Training accuracy: 10.1%\n",
      "Validation accuracy: 11.9%\n",
      "Loss at step 100: 10.482635\n",
      "Training accuracy: 73.3%\n",
      "Validation accuracy: 72.2%\n",
      "Loss at step 200: 6.207876\n",
      "Training accuracy: 77.1%\n",
      "Validation accuracy: 75.1%\n",
      "Loss at step 300: 3.802901\n",
      "Training accuracy: 79.7%\n",
      "Validation accuracy: 76.9%\n",
      "Loss at step 400: 2.437117\n",
      "Training accuracy: 81.6%\n",
      "Validation accuracy: 78.8%\n",
      "Loss at step 500: 1.662688\n",
      "Training accuracy: 83.1%\n",
      "Validation accuracy: 79.9%\n",
      "Loss at step 600: 1.222661\n",
      "Training accuracy: 84.4%\n",
      "Validation accuracy: 80.7%\n",
      "Loss at step 700: 0.971148\n",
      "Training accuracy: 84.9%\n",
      "Validation accuracy: 81.1%\n",
      "Loss at step 800: 0.826370\n",
      "Training accuracy: 85.2%\n",
      "Validation accuracy: 81.2%\n",
      "Test accuracy: 88.4%\n"
     ]
    }
   ],
   "source": [
    "num_steps = 801\n",
    "\n",
    "def accuracy(predictions, labels):\n",
    "  return (100.0 * np.sum(np.argmax(predictions, 1) == np.argmax(labels, 1))\n",
    "          / predictions.shape[0])\n",
    "\n",
    "with tf.Session(graph=graph) as session:\n",
    "  # This is a one-time operation which ensures the parameters get initialized as\n",
    "  # we described in the graph: random weights for the matrix, zeros for the\n",
    "  # biases. \n",
    "  tf.global_variables_initializer().run()\n",
    "  print('Initialized')\n",
    "  for step in range(num_steps):\n",
    "    # Run the computations. We tell .run() that we want to run the optimizer,\n",
    "    # and get the loss value and the training predictions returned as numpy\n",
    "    # arrays.\n",
    "    _, l, predictions = session.run([optimizer, loss, train_prediction])\n",
    "    if (step % 100 == 0):\n",
    "      print('Loss at step %d: %f' % (step, l))\n",
    "      print('Training accuracy: %.1f%%' % accuracy(\n",
    "        predictions, train_labels[:train_subset, :]))\n",
    "      # Calling .eval() on valid_prediction is basically like calling run(), but\n",
    "      # just to get that one numpy array. Note that it recomputes all its graph\n",
    "      # dependencies.\n",
    "      print('Validation accuracy: %.1f%%' % accuracy(\n",
    "        valid_prediction.eval(), valid_labels))\n",
    "  print('Test accuracy: %.1f%%' % accuracy(test_prediction.eval(), test_labels))"
   ]
  },
  {
   "cell_type": "markdown",
   "metadata": {},
   "source": [
    "### Stochastic Gradient Descent with linear activation function and softmax and L2 regularisation"
   ]
  },
  {
   "cell_type": "code",
   "execution_count": 44,
   "metadata": {
    "collapsed": true
   },
   "outputs": [],
   "source": [
    "\n",
    "batch_size = 128\n",
    "beta = 0.001  # parameter to tune for l2 reguraliser  - best value is 0.001 = 88.5\n",
    "graph = tf.Graph()\n",
    "with graph.as_default():\n",
    "\n",
    "  # Input data. For the training data, we use a placeholder that will be fed\n",
    "  # at run time with a training minibatch.\n",
    "  tf_train_dataset = tf.placeholder(tf.float32,\n",
    "                                    shape=(batch_size, image_size * image_size))\n",
    "  tf_train_labels = tf.placeholder(tf.float32, shape=(batch_size, num_labels))\n",
    "  tf_valid_dataset = tf.constant(valid_dataset)\n",
    "  tf_test_dataset = tf.constant(test_dataset)\n",
    "  \n",
    "  # Variables.\n",
    "  weights = tf.Variable(\n",
    "    tf.truncated_normal([image_size * image_size, num_labels]))\n",
    "  biases = tf.Variable(tf.zeros([num_labels]))\n",
    "  \n",
    "  # Training computation.\n",
    "  logits = tf.matmul(tf_train_dataset, weights) + biases\n",
    "  loss = tf.reduce_mean(\n",
    "    tf.nn.softmax_cross_entropy_with_logits(labels=tf_train_labels, logits=logits))\n",
    "  # Adding regularisation l2\n",
    "  regularizers = (tf.nn.l2_loss(weights) + tf.nn.l2_loss(biases))\n",
    "  # Add the regularization term to the loss.\n",
    "  loss += beta * regularizers\n",
    "  \n",
    "  # Optimizer.\n",
    "  optimizer = tf.train.GradientDescentOptimizer(0.5).minimize(loss)\n",
    "  \n",
    "  # Predictions for the training, validation, and test data.\n",
    "  train_prediction = tf.nn.softmax(logits)\n",
    "  valid_prediction = tf.nn.softmax(\n",
    "    tf.matmul(tf_valid_dataset, weights) + biases)\n",
    "  test_prediction = tf.nn.softmax(tf.matmul(tf_test_dataset, weights) + biases)"
   ]
  },
  {
   "cell_type": "code",
   "execution_count": 45,
   "metadata": {},
   "outputs": [
    {
     "name": "stdout",
     "output_type": "stream",
     "text": [
      "Initialized\n",
      "Offset -- 0 Minibatch loss at step 0: 20.464306\n",
      "Minibatch accuracy: 6.2%\n",
      "Validation accuracy: 13.3%\n",
      "Offset -- 64000 Minibatch loss at step 500: 3.278008\n",
      "Minibatch accuracy: 67.2%\n",
      "Validation accuracy: 76.5%\n",
      "Offset -- 128000 Minibatch loss at step 1000: 1.809902\n",
      "Minibatch accuracy: 74.2%\n",
      "Validation accuracy: 79.0%\n",
      "Offset -- 192000 Minibatch loss at step 1500: 0.973770\n",
      "Minibatch accuracy: 86.7%\n",
      "Validation accuracy: 80.4%\n",
      "Offset -- 56128 Minibatch loss at step 2000: 0.912485\n",
      "Minibatch accuracy: 81.2%\n",
      "Validation accuracy: 80.9%\n",
      "Offset -- 120128 Minibatch loss at step 2500: 0.847945\n",
      "Minibatch accuracy: 80.5%\n",
      "Validation accuracy: 81.6%\n",
      "Offset -- 184128 Minibatch loss at step 3000: 0.782698\n",
      "Minibatch accuracy: 81.2%\n",
      "Validation accuracy: 81.4%\n",
      "Test accuracy: 88.5%\n"
     ]
    }
   ],
   "source": [
    "num_steps = 3001\n",
    "\n",
    "with tf.Session(graph=graph) as session:\n",
    "  tf.global_variables_initializer().run()\n",
    "  print(\"Initialized\")\n",
    "  for step in range(num_steps):\n",
    "    # Pick an offset within the training data, which has been randomized.\n",
    "    # Note: we could use better randomization across epochs.\n",
    "    offset = (step * batch_size) % (train_labels.shape[0] - batch_size)\n",
    "    # Generate a minibatch.\n",
    "    batch_data = train_dataset[offset:(offset + batch_size), :]\n",
    "    batch_labels = train_labels[offset:(offset + batch_size), :]\n",
    "    # Prepare a dictionary telling the session where to feed the minibatch.\n",
    "    # The key of the dictionary is the placeholder node of the graph to be fed,\n",
    "    # and the value is the numpy array to feed to it.\n",
    "    feed_dict = {tf_train_dataset : batch_data, tf_train_labels : batch_labels}\n",
    "    _, l, predictions = session.run(\n",
    "      [optimizer, loss, train_prediction], feed_dict=feed_dict)\n",
    "    if (step % 500 == 0):\n",
    "      print(\"Offset -- %d Minibatch loss at step %d: %f\" % (offset, step, l))\n",
    "      print(\"Minibatch accuracy: %.1f%%\" % accuracy(predictions, batch_labels))\n",
    "      print(\"Validation accuracy: %.1f%%\" % accuracy(\n",
    "        valid_prediction.eval(), valid_labels))\n",
    "  print(\"Test accuracy: %.1f%%\" % accuracy(test_prediction.eval(), test_labels))"
   ]
  },
  {
   "cell_type": "markdown",
   "metadata": {},
   "source": [
    "### One Hidden Layer NN (1024 units) with Relu and fancy weight initialisation with SGD, L2\n",
    "the accuracy doesn't get better in this case of adding L2. Conversly, in normal Logistic Regression scenario with simple GD it improved."
   ]
  },
  {
   "cell_type": "code",
   "execution_count": 115,
   "metadata": {
    "collapsed": true
   },
   "outputs": [],
   "source": [
    "# with one Relu hidden layer\n",
    "beta = 0.0001    # parameter to tune for l2 reguraliser - best result with beta 0.0001\n",
    "batch_size = 128\n",
    "L1 = 4096\n",
    "L2 = 10\n",
    "\n",
    "graph = tf.Graph()\n",
    "with graph.as_default():\n",
    "\n",
    "  # Input data. For the training data, we use a placeholder that will be fed\n",
    "  # at run time with a training minibatch.\n",
    "  tf_train_dataset = tf.placeholder(tf.float32,\n",
    "                                    shape=(batch_size, image_size * image_size))\n",
    "  tf_train_labels = tf.placeholder(tf.float32, shape=(batch_size, num_labels))\n",
    "  tf_valid_dataset = tf.constant(valid_dataset)\n",
    "  tf_test_dataset = tf.constant(test_dataset)\n",
    "  \n",
    "  # Variables.\n",
    "  weights1 = tf.Variable(tf.truncated_normal([image_size * image_size, L1], stddev=np.sqrt(2/(image_size*image_size))))\n",
    "  biases1 = tf.Variable(tf.ones([L1])/10)\n",
    "  weights2 = tf.Variable(tf.truncated_normal([L1, L2], stddev=np.sqrt(2/L1)))\n",
    "  biases2 = tf.Variable(tf.zeros([L2]))\n",
    "  \n",
    "  # Training computation.\n",
    "  Y1 = tf.nn.relu(tf.matmul(tf_train_dataset, weights1) + biases1)\n",
    "  logits = tf.matmul(Y1, weights2) + biases2\n",
    "  loss = tf.reduce_mean(tf.nn.softmax_cross_entropy_with_logits(labels=tf_train_labels, logits=logits))\n",
    "\n",
    "  # Adding regularisation l2\n",
    "  regularizers = (tf.nn.l2_loss(weights1) + tf.nn.l2_loss(biases1) + tf.nn.l2_loss(weights2) + tf.nn.l2_loss(biases2))\n",
    "  # Add the regularization term to the loss.\n",
    "  loss += beta * regularizers\n",
    "\n",
    "  # Validation Computation\n",
    "  Y1_valid = tf.nn.relu(tf.matmul(tf_valid_dataset, weights1) + biases1)\n",
    "  logits_valid = tf.matmul(Y1_valid, weights2) + biases2\n",
    "  # Test Computation\n",
    "  Y1_test = tf.nn.relu(tf.matmul(tf_test_dataset, weights1) + biases1)\n",
    "  logits_test = tf.matmul(Y1_test, weights2) + biases2 \n",
    "  \n",
    "  # Optimizer.\n",
    "  optimizer = tf.train.GradientDescentOptimizer(0.5).minimize(loss)\n",
    "  \n",
    "  # Predictions for the training, validation, and test data.\n",
    "  train_prediction = tf.nn.softmax(logits)\n",
    "  valid_prediction = tf.nn.softmax(logits_valid)\n",
    "  test_prediction = tf.nn.softmax(logits_test)\n",
    "# lr = 0.1\n",
    "# without touching weights, the best option for biases as per accuracy (90.6%) is to use tf.Variable(tf.ones([L1])/10) for biases for Relu \n",
    "# and tf.Variable(tf.zeros([L2])) for non Relu functions\n",
    "# accuracy jumps from 90.6% to 92.3% only by adding to weights1 sttdev=np.sqrt(2/n) where n = # of neurons in prev\n",
    "# layer. In case of Relu here I used n = # of features since that's what Relu has as input in this case.\n",
    "# Accuracy jumps from 92.3% to 93.1% by adding stddev=np.sqrt(2/L1) to weights2\n",
    "# acc goes to 94.2% when using lr = 0.5 with GD\n",
    "\n",
    "# above data is for case w/o L2 regularisation. Unfortunately when I add it, the accuracy doesn't change"
   ]
  },
  {
   "cell_type": "code",
   "execution_count": 116,
   "metadata": {},
   "outputs": [
    {
     "name": "stdout",
     "output_type": "stream",
     "text": [
      "Initialized\n",
      "Minibatch loss at step 0: 2.895615\n",
      "Minibatch accuracy: 13.3%\n",
      "Validation accuracy: 29.9%\n",
      "Minibatch loss at step 500: 0.307340\n",
      "Minibatch accuracy: 100.0%\n",
      "Validation accuracy: 78.8%\n",
      "Minibatch loss at step 1000: 0.292095\n",
      "Minibatch accuracy: 100.0%\n",
      "Validation accuracy: 78.8%\n",
      "Minibatch loss at step 1500: 0.278050\n",
      "Minibatch accuracy: 100.0%\n",
      "Validation accuracy: 78.8%\n",
      "Minibatch loss at step 2000: 0.264777\n",
      "Minibatch accuracy: 100.0%\n",
      "Validation accuracy: 78.8%\n",
      "Minibatch loss at step 2500: 0.252178\n",
      "Minibatch accuracy: 100.0%\n",
      "Validation accuracy: 78.8%\n",
      "Minibatch loss at step 3000: 0.240205\n",
      "Minibatch accuracy: 100.0%\n",
      "Validation accuracy: 78.9%\n",
      "Test accuracy: 86.3%\n"
     ]
    }
   ],
   "source": [
    "num_steps = 3001\n",
    "with tf.Session(graph=graph) as session:\n",
    "  tf.global_variables_initializer().run()\n",
    "  print(\"Initialized\")\n",
    "  for step in range(num_steps):\n",
    "    # Pick an offset within the training data, which has been randomized.\n",
    "    # Note: we could use better randomization across epochs.\n",
    "    offset = (step * batch_size) % (train_labels.shape[0] - batch_size)\n",
    "    \n",
    "    # the line below makes the loop running only over the first 5 batches of the training dataset\n",
    "    # which leads to overfitting as training accuracy becomes 100% and test accuracy goes down to 86.3%\n",
    "#     offset = (step %5 * batch_size) % (train_labels.shape[0] - batch_size)\n",
    "    # Generate a minibatch.\n",
    "    batch_data = train_dataset[offset:(offset + batch_size), :]\n",
    "    batch_labels = train_labels[offset:(offset + batch_size), :]\n",
    "    # Prepare a dictionary telling the session where to feed the minibatch.\n",
    "    # The key of the dictionary is the placeholder node of the graph to be fed,\n",
    "    # and the value is the numpy array to feed to it.\n",
    "    feed_dict = {tf_train_dataset : batch_data, tf_train_labels : batch_labels}\n",
    "    _, l, predictions = session.run(\n",
    "      [optimizer, loss, train_prediction], feed_dict=feed_dict)\n",
    "    if (step % 500 == 0):\n",
    "      print(\"Minibatch loss at step %d: %f\" % (step, l))\n",
    "      print(\"Minibatch accuracy: %.1f%%\" % accuracy(predictions, batch_labels))\n",
    "      print(\"Validation accuracy: %.1f%%\" % accuracy(\n",
    "        valid_prediction.eval(), valid_labels))\n",
    "  print(\"Test accuracy: %.1f%%\" % accuracy(test_prediction.eval(), test_labels))"
   ]
  },
  {
   "cell_type": "markdown",
   "metadata": {},
   "source": [
    "### interestingly, L2 improved results only for simple GD and Logistic Regression, but not for SGD and 1 layer ANN. Maybe further tuning would help."
   ]
  },
  {
   "cell_type": "code",
   "execution_count": null,
   "metadata": {
    "collapsed": true
   },
   "outputs": [],
   "source": []
  },
  {
   "cell_type": "markdown",
   "metadata": {
    "colab_type": "text",
    "id": "na8xX2yHZzNF"
   },
   "source": [
    "---\n",
    "Problem 2\n",
    "---------\n",
    "Let's demonstrate an extreme case of overfitting. Restrict your training data to just a few batches. What happens?\n",
    "\n",
    "---\n",
    "Answer: look the the change in the code above (5% - to restrict only first 5 batches)"
   ]
  },
  {
   "cell_type": "markdown",
   "metadata": {
    "colab_type": "text",
    "id": "ww3SCBUdlkRc"
   },
   "source": [
    "---\n",
    "Problem 3\n",
    "---------\n",
    "Introduce Dropout on the hidden layer of the neural network. Remember: Dropout should only be introduced during training, not evaluation, otherwise your evaluation results would be stochastic as well. TensorFlow provides `nn.dropout()` for that, but you have to make sure it's only inserted during training.\n",
    "\n",
    "What happens to our extreme overfitting case?\n",
    "\n",
    "---"
   ]
  },
  {
   "cell_type": "markdown",
   "metadata": {},
   "source": [
    "### Adding dropout to training only data"
   ]
  },
  {
   "cell_type": "code",
   "execution_count": 130,
   "metadata": {
    "scrolled": true
   },
   "outputs": [],
   "source": [
    "# with one Relu hidden layer\n",
    "batch_size = 400\n",
    "# L1 = 4096\n",
    "# default 128, with batch_size = 200 and dp 0.9, acc  went up from 94 to 94.6% \n",
    "# with batch_size 800 and dp 0.9, acc  = 95.2% \n",
    "# with 500 and dp 0.95, acc  = 95.1% \n",
    "# steps 7000, batch_size = 300, pkeep = 0.8 = test acc = 95%\n",
    "# L1 = 2048 with 400 and dp 0.9, acc  = 95%\n",
    "# L1 = 784, steps = 3001 with 400 and dp 0.9, acc  = 94.8% \n",
    "# L1 = 784, steps = 3001 with 800 and dp 0.9, acc  = 94.9%\n",
    "# L1 = 784, steps = 9001 with 400 and dp 0.9, acc  = 95.3% (highest)\n",
    "# L1 = 784, steps = 18001 with 400 and dp 0.9, acc  = 95.3% (highest)\n",
    "# L1 = 784, steps = 50001 with 400 and dp 0.9, acc  = 95.3% (highest)\n",
    "# L1 = 1600, steps = 3001 with 400 and dp 0.9, acc  = 94.8% \n",
    "# L1 = 600, steps = 3001 with 400 and dp 0.9, acc  = 94.7% \n",
    "# L1 = 3000, steps = 3001 with 400 and dp 0.9, acc  = 95.1%\n",
    "# L1 = 3920, steps = 3001 with 400 and dp 0.9, acc  = 95.1%\n",
    "# L1 = 4096, steps = 3001 with 400 and dp 0.9, acc  = 94.9%\n",
    "\n",
    "\n",
    "\n",
    "L1 = 784\n",
    "L2 = 10\n",
    "\n",
    "\n",
    "graph = tf.Graph()\n",
    "with graph.as_default():\n",
    "\n",
    "  # Input data. For the training data, we use a placeholder that will be fed\n",
    "  # at run time with a training minibatch.\n",
    "  tf_train_dataset = tf.placeholder(tf.float32,\n",
    "                                    shape=(batch_size, image_size * image_size))\n",
    "  tf_train_labels = tf.placeholder(tf.float32, shape=(batch_size, num_labels))\n",
    "  tf_valid_dataset = tf.constant(valid_dataset)\n",
    "  tf_test_dataset = tf.constant(test_dataset)\n",
    "  \n",
    "  # Variables.\n",
    "  weights1 = tf.Variable(tf.truncated_normal([image_size * image_size, L1], stddev=np.sqrt(2/(image_size*image_size))))\n",
    "  biases1 = tf.Variable(tf.ones([L1])/10)\n",
    "  weights2 = tf.Variable(tf.truncated_normal([L1, L2], stddev=np.sqrt(2/L1)))\n",
    "  biases2 = tf.Variable(tf.zeros([L2]))\n",
    "  pkeep = tf.placeholder(tf.float32)\n",
    "  \n",
    "  # Training computation with dropout\n",
    "  Y1 = tf.nn.relu(tf.matmul(tf_train_dataset, weights1) + biases1)\n",
    "  Y1d = tf.nn.dropout(Y1, pkeep)\n",
    "  logits = tf.matmul(Y1d, weights2) + biases2\n",
    "  loss = tf.reduce_mean(tf.nn.softmax_cross_entropy_with_logits(labels=tf_train_labels, logits=logits))\n",
    "\n",
    "\n",
    "  # Validation Computation\n",
    "  Y1_valid = tf.nn.relu(tf.matmul(tf_valid_dataset, weights1) + biases1)\n",
    "  logits_valid = tf.matmul(Y1_valid, weights2) + biases2\n",
    "  # Test Computation\n",
    "  Y1_test = tf.nn.relu(tf.matmul(tf_test_dataset, weights1) + biases1)\n",
    "  logits_test = tf.matmul(Y1_test, weights2) + biases2 \n",
    "  \n",
    "  # Optimizer.\n",
    "  optimizer = tf.train.GradientDescentOptimizer(0.5).minimize(loss)\n",
    "  \n",
    "  # Predictions for the training, validation, and test data.\n",
    "  train_prediction = tf.nn.softmax(logits)\n",
    "  valid_prediction = tf.nn.softmax(logits_valid)\n",
    "  test_prediction = tf.nn.softmax(logits_test)\n",
    "# lr = 0.1\n",
    "# without touching weights, the best option for biases as per accuracy (90.6%) is to use tf.Variable(tf.ones([L1])/10) for biases for Relu \n",
    "# and tf.Variable(tf.zeros([L2])) for non Relu functions\n",
    "# accuracy jumps from 90.6% to 92.3% only by adding to weights1 sttdev=np.sqrt(2/n) where n = # of neurons in prev\n",
    "# layer. In case of Relu here I used n = # of features since that's what Relu has as input in this case.\n",
    "# Accuracy jumps from 92.3% to 93.1% by adding stddev=np.sqrt(2/L1) to weights2\n",
    "# acc goes to 94.2% when using lr = 0.5 with GD\n",
    "\n",
    "# above data is for case w/o L2 regularisation. Unfortunately when I add it, the accuracy doesn't change"
   ]
  },
  {
   "cell_type": "code",
   "execution_count": 131,
   "metadata": {
    "scrolled": true
   },
   "outputs": [
    {
     "name": "stdout",
     "output_type": "stream",
     "text": [
      "Initialized\n",
      "Minibatch loss at step 0: 2.389424\n",
      "Minibatch accuracy: 10.8%\n",
      "Validation accuracy: 33.8%\n",
      "Minibatch loss at step 500: 0.505885\n",
      "Minibatch accuracy: 86.5%\n",
      "Validation accuracy: 87.0%\n",
      "Minibatch loss at step 1000: 0.370825\n",
      "Minibatch accuracy: 88.8%\n",
      "Validation accuracy: 88.7%\n",
      "Minibatch loss at step 1500: 0.364210\n",
      "Minibatch accuracy: 89.2%\n",
      "Validation accuracy: 89.4%\n",
      "Minibatch loss at step 2000: 0.366691\n",
      "Minibatch accuracy: 89.8%\n",
      "Validation accuracy: 89.7%\n",
      "Minibatch loss at step 2500: 0.305972\n",
      "Minibatch accuracy: 91.8%\n",
      "Validation accuracy: 89.8%\n",
      "Minibatch loss at step 3000: 0.261260\n",
      "Minibatch accuracy: 91.5%\n",
      "Validation accuracy: 90.1%\n",
      "Minibatch loss at step 3500: 0.317885\n",
      "Minibatch accuracy: 89.5%\n",
      "Validation accuracy: 89.8%\n",
      "Minibatch loss at step 4000: 0.238467\n",
      "Minibatch accuracy: 94.8%\n",
      "Validation accuracy: 90.6%\n",
      "Minibatch loss at step 4500: 0.206318\n",
      "Minibatch accuracy: 92.8%\n",
      "Validation accuracy: 90.6%\n",
      "Minibatch loss at step 5000: 0.227483\n",
      "Minibatch accuracy: 93.2%\n",
      "Validation accuracy: 90.4%\n",
      "Minibatch loss at step 5500: 0.268538\n",
      "Minibatch accuracy: 92.0%\n",
      "Validation accuracy: 90.6%\n",
      "Minibatch loss at step 6000: 0.263786\n",
      "Minibatch accuracy: 92.5%\n",
      "Validation accuracy: 90.5%\n",
      "Minibatch loss at step 6500: 0.166693\n",
      "Minibatch accuracy: 95.2%\n",
      "Validation accuracy: 90.6%\n",
      "Minibatch loss at step 7000: 0.240040\n",
      "Minibatch accuracy: 93.0%\n",
      "Validation accuracy: 90.9%\n",
      "Minibatch loss at step 7500: 0.190591\n",
      "Minibatch accuracy: 95.2%\n",
      "Validation accuracy: 90.8%\n",
      "Minibatch loss at step 8000: 0.163655\n",
      "Minibatch accuracy: 95.0%\n",
      "Validation accuracy: 90.7%\n",
      "Minibatch loss at step 8500: 0.165838\n",
      "Minibatch accuracy: 95.5%\n",
      "Validation accuracy: 90.8%\n",
      "Minibatch loss at step 9000: 0.192102\n",
      "Minibatch accuracy: 96.0%\n",
      "Validation accuracy: 90.7%\n",
      "Test accuracy: 95.2%\n"
     ]
    }
   ],
   "source": [
    "num_steps = 9001\n",
    "#3001\n",
    "with tf.Session(graph=graph) as session:\n",
    "  tf.global_variables_initializer().run()\n",
    "  print(\"Initialized\")\n",
    "  for step in range(num_steps):\n",
    "    # Pick an offset within the training data, which has been randomized.\n",
    "    # Note: we could use better randomization across epochs.\n",
    "    offset = (step * batch_size) % (train_labels.shape[0] - batch_size)\n",
    "    # the line below makes the loop running only over the first 5 batches of the training dataset\n",
    "    # which leads to overfitting as training accuracy becomes 100% and test accuracy goes down to 86.3%\n",
    "    # offset = (step %5 * batch_size) % (train_labels.shape[0] - batch_size)\n",
    "    # Generate a minibatch.\n",
    "    batch_data = train_dataset[offset:(offset + batch_size), :]\n",
    "    batch_labels = train_labels[offset:(offset + batch_size), :]\n",
    "    # Prepare a dictionary telling the session where to feed the minibatch.\n",
    "    # The key of the dictionary is the placeholder node of the graph to be fed,\n",
    "    # and the value is the numpy array to feed to it.\n",
    "    feed_dict = {tf_train_dataset : batch_data, tf_train_labels : batch_labels, pkeep : 0.9}\n",
    "    _, l, predictions = session.run(\n",
    "      [optimizer, loss, train_prediction], feed_dict=feed_dict)\n",
    "    if (step % 500 == 0):\n",
    "      print(\"Minibatch loss at step %d: %f\" % (step, l))\n",
    "      print(\"Minibatch accuracy: %.1f%%\" % accuracy(predictions, batch_labels))\n",
    "      print(\"Validation accuracy: %.1f%%\" % accuracy(\n",
    "        valid_prediction.eval(), valid_labels))\n",
    "  print(\"Test accuracy: %.1f%%\" % accuracy(test_prediction.eval(), test_labels))"
   ]
  },
  {
   "cell_type": "markdown",
   "metadata": {},
   "source": [
    "### the case of the overfitted model(loops through 5 first batches) and dropout\n",
    "accuracy for overfitted model with dropout is 86.9% and without droput 86.3% - there is a small improvement, but very small"
   ]
  },
  {
   "cell_type": "code",
   "execution_count": 113,
   "metadata": {
    "collapsed": true
   },
   "outputs": [],
   "source": [
    "# with one Relu hidden layer\n",
    "beta = 0.0001    # parameter to tune for l2 reguraliser - best result with beta 0.0001\n",
    "batch_size = 200\n",
    "L1 = 4096\n",
    "L2 = 10\n",
    "\n",
    "\n",
    "graph = tf.Graph()\n",
    "with graph.as_default():\n",
    "\n",
    "  # Input data. For the training data, we use a placeholder that will be fed\n",
    "  # at run time with a training minibatch.\n",
    "  tf_train_dataset = tf.placeholder(tf.float32,\n",
    "                                    shape=(batch_size, image_size * image_size))\n",
    "  tf_train_labels = tf.placeholder(tf.float32, shape=(batch_size, num_labels))\n",
    "  tf_valid_dataset = tf.constant(valid_dataset)\n",
    "  tf_test_dataset = tf.constant(test_dataset)\n",
    "  \n",
    "  # Variables.\n",
    "  weights1 = tf.Variable(tf.truncated_normal([image_size * image_size, L1], stddev=np.sqrt(2/(image_size*image_size))))\n",
    "  biases1 = tf.Variable(tf.ones([L1])/10)\n",
    "  weights2 = tf.Variable(tf.truncated_normal([L1, L2], stddev=np.sqrt(2/L1)))\n",
    "  biases2 = tf.Variable(tf.zeros([L2]))\n",
    "  pkeep = tf.placeholder(tf.float32)\n",
    "  \n",
    "  # Training computation with dropout\n",
    "  Y1 = tf.nn.relu(tf.matmul(tf_train_dataset, weights1) + biases1)\n",
    "  Y1d = tf.nn.dropout(Y1, pkeep)\n",
    "  logits = tf.matmul(Y1d, weights2) + biases2\n",
    "  loss = tf.reduce_mean(tf.nn.softmax_cross_entropy_with_logits(labels=tf_train_labels, logits=logits))\n",
    "\n",
    "\n",
    "  # Validation Computation\n",
    "  Y1_valid = tf.nn.relu(tf.matmul(tf_valid_dataset, weights1) + biases1)\n",
    "  logits_valid = tf.matmul(Y1_valid, weights2) + biases2\n",
    "  # Test Computation\n",
    "  Y1_test = tf.nn.relu(tf.matmul(tf_test_dataset, weights1) + biases1)\n",
    "  logits_test = tf.matmul(Y1_test, weights2) + biases2 \n",
    "  \n",
    "  # Optimizer.\n",
    "  optimizer = tf.train.GradientDescentOptimizer(0.5).minimize(loss)\n",
    "  \n",
    "  # Predictions for the training, validation, and test data.\n",
    "  train_prediction = tf.nn.softmax(logits)\n",
    "  valid_prediction = tf.nn.softmax(logits_valid)\n",
    "  test_prediction = tf.nn.softmax(logits_test)"
   ]
  },
  {
   "cell_type": "code",
   "execution_count": 114,
   "metadata": {},
   "outputs": [
    {
     "name": "stdout",
     "output_type": "stream",
     "text": [
      "Initialized\n",
      "Minibatch loss at step 0: 2.311491\n",
      "Minibatch accuracy: 13.0%\n",
      "Validation accuracy: 32.1%\n",
      "Minibatch loss at step 500: 0.008106\n",
      "Minibatch accuracy: 99.5%\n",
      "Validation accuracy: 80.1%\n",
      "Minibatch loss at step 1000: 0.005275\n",
      "Minibatch accuracy: 99.5%\n",
      "Validation accuracy: 80.2%\n",
      "Minibatch loss at step 1500: 0.005815\n",
      "Minibatch accuracy: 99.5%\n",
      "Validation accuracy: 80.2%\n",
      "Minibatch loss at step 2000: 0.004489\n",
      "Minibatch accuracy: 99.5%\n",
      "Validation accuracy: 80.2%\n",
      "Minibatch loss at step 2500: 0.005048\n",
      "Minibatch accuracy: 99.5%\n",
      "Validation accuracy: 80.1%\n",
      "Minibatch loss at step 3000: 0.005301\n",
      "Minibatch accuracy: 99.5%\n",
      "Validation accuracy: 80.2%\n",
      "Test accuracy: 86.9%\n"
     ]
    }
   ],
   "source": [
    "num_steps = 3001\n",
    "#3001\n",
    "with tf.Session(graph=graph) as session:\n",
    "  tf.global_variables_initializer().run()\n",
    "  print(\"Initialized\")\n",
    "  for step in range(num_steps):\n",
    "    # Pick an offset within the training data, which has been randomized.\n",
    "    # Note: we could use better randomization across epochs.\n",
    "#     offset = (step * batch_size) % (train_labels.shape[0] - batch_size)\n",
    "    # the line below makes the loop running only over the first 5 batches of the training dataset\n",
    "    # which leads to overfitting as training accuracy becomes 100% and test accuracy goes down to 86.3%\n",
    "    offset = (step %5 * batch_size) % (train_labels.shape[0] - batch_size)\n",
    "    # Generate a minibatch.\n",
    "    batch_data = train_dataset[offset:(offset + batch_size), :]\n",
    "    batch_labels = train_labels[offset:(offset + batch_size), :]\n",
    "    # Prepare a dictionary telling the session where to feed the minibatch.\n",
    "    # The key of the dictionary is the placeholder node of the graph to be fed,\n",
    "    # and the value is the numpy array to feed to it.\n",
    "    feed_dict = {tf_train_dataset : batch_data, tf_train_labels : batch_labels, pkeep : 0.90}\n",
    "    _, l, predictions = session.run(\n",
    "      [optimizer, loss, train_prediction], feed_dict=feed_dict)\n",
    "    if (step % 500 == 0):\n",
    "      print(\"Minibatch loss at step %d: %f\" % (step, l))\n",
    "      print(\"Minibatch accuracy: %.1f%%\" % accuracy(predictions, batch_labels))\n",
    "      print(\"Validation accuracy: %.1f%%\" % accuracy(\n",
    "        valid_prediction.eval(), valid_labels))\n",
    "  print(\"Test accuracy: %.1f%%\" % accuracy(test_prediction.eval(), test_labels))"
   ]
  },
  {
   "cell_type": "code",
   "execution_count": null,
   "metadata": {
    "collapsed": true
   },
   "outputs": [],
   "source": []
  },
  {
   "cell_type": "code",
   "execution_count": null,
   "metadata": {
    "collapsed": true
   },
   "outputs": [],
   "source": []
  },
  {
   "cell_type": "markdown",
   "metadata": {
    "colab_type": "text",
    "id": "-b1hTz3VWZjw"
   },
   "source": [
    "---\n",
    "Problem 4\n",
    "---------\n",
    "\n",
    "Try to get the best performance you can using a multi-layer model! The best reported test accuracy using a deep network is [97.1%](http://yaroslavvb.blogspot.com/2011/09/notmnist-dataset.html?showComment=1391023266211#c8758720086795711595).\n",
    "\n",
    "One avenue you can explore is to add multiple layers.\n",
    "\n",
    "Another one is to use learning rate decay:\n",
    "\n",
    "    global_step = tf.Variable(0)  # count the number of steps taken.\n",
    "    learning_rate = tf.train.exponential_decay(0.5, global_step, ...)\n",
    "    optimizer = tf.train.GradientDescentOptimizer(learning_rate).minimize(loss, global_step=global_step)\n",
    " \n",
    " ---\n"
   ]
  },
  {
   "cell_type": "markdown",
   "metadata": {},
   "source": [
    "### Multilayer FNN, relu, droput, fancy initialisation, SGD\n"
   ]
  },
  {
   "cell_type": "code",
   "execution_count": 200,
   "metadata": {},
   "outputs": [],
   "source": [
    "# with multiple Relu hidden layers\n",
    "\n",
    "\n",
    "# with SGD with static learning rate = 0.5\n",
    "# L1 = 784, steps = 9001 with 400 and dp 0.9, acc  = 95.3% \n",
    "#  2 h layers L1 = 784, L2 = 784, steps = 9001 with bs = 400 and dp 0.9, acc  = 96% (3rd highest)\n",
    "#  2 h layers L1, L2 = 1024, steps = 9001 with bs = 400 and dp 0.9, acc  = 95.9% \n",
    "#  2 h layers L1, L2 = 784, steps = 9001 with bs = 400 and dp 0.9, acc  = 96% (3rd highest)\n",
    "#  3 h layers L1 = 784, L2 = 784, L3 = 784, steps = 9001 with bs = 400 and dp 0.9, acc  = 95.8%\n",
    "#  4 h layers L1, L2, L3, L4 = 784, steps = 9001 with bs = 400 and dp 0.9, acc  = 95.9% \n",
    "# SGD with exponential decay start 0.5, decay rate 0.96\n",
    "#  2 h layers L1, L2 = 784, steps = 9001 with bs = 400 and dp 0.9, acc  = 96% (3rd highest)\n",
    "# SGD with exponential decay start 0.6, decay rate 0.96\n",
    "#  2 h layers L1, L2 = 784, steps = 9001 with bs = 400 and dp 0.9, acc  = 95.9% \n",
    "# SGD with exponential decay start 0.4, decay rate 0.96\n",
    "#  2 h layers L1, L2 = 784, steps = 9001 with bs = 400 and dp 0.9, acc  = 96% (3rd highest)\n",
    "# SGD with exponential decay start 0.4, decay rate 0.99\n",
    "#  2 h layers L1, L2 = 784, steps = 9001 with bs = 400 and dp 0.9, acc  = 96%\n",
    "# SGD with exponential decay start 0.2, decay rate 0.99\n",
    "#  2 h layers L1, L2 = 784, steps = 9001 with bs = 400 and dp 0.9, acc  = 95.9%\n",
    "# SGD with exponential decay start 0.4, decay rate 0.99\n",
    "#  2 h layers L1, L2 = 784, 392 steps = 9001 with bs = 400 and dp 0.9, acc  = 96% (3rd highest)\n",
    "#  2 h layers L1, L2 = 1568, 784 steps = 9001 with bs = 400 and dp 0.9, acc  = 96.2% (2nd highest)\n",
    "#  2 h layers L1, L2 = 1568, 784 steps = 9001 with bs = 800 and dp 0.9, acc  = 96.3% (highest)\n",
    "#  2 h layers L1, L2 = 1568, 784 steps = 9001 with bs = 1024 and dp 0.9, acc  = 96%\n",
    "#  2 h layers L1, L2 = 1568, 784 steps = 9001 with bs = 600 and dp 0.9, acc  = 96%\n",
    "#  3 h layers L1, L2, L3 = 1568,784,512, steps = 9001 with bs = 800 and dp 0.9, acc  = 96% \n",
    "#  3 h layers L1, L2, L3 = 1568,784,512, steps = 9001 with bs = 800 and dp 0.5, acc  = 95.9% \n",
    "# MomentumOptimizer \n",
    "#  2 h layers L1, L2 = 784, steps = 9001 with bs = 400 and dp 0.9, acc  = 95.4%\n",
    "# AdamOptimizer(1e-4) \n",
    "#  2 h layers L1, L2 = 784,512, steps = 9001 with bs = 256 and dp 0.9, acc  = 95.2%\n",
    "# AdamOptimizer(start_lr = 0.001) expo decay rate with global_step_batch\n",
    "#  2 h layers L1, L2 = 1024,512, steps = 9001 with bs = 400 and dp 0.9, acc  = 95.6%\n",
    "#  2 h layers L1, L2 = 784,512, steps = 9001 with bs = 400 and dp 0.9, acc  = 95.7%\n",
    "#  2 h layers L1, L2 = 784,392, steps = 9001 with bs = 400 and dp 0.9, acc  = 95.8%\n",
    "#  2 h layers L1, L2 = 784,392, steps = 9001 with bs = 600 and dp 0.9, acc  = 95.8%\n",
    "#  2 h layers L1, L2 = 784,392, steps = 9001 with bs = 800 and dp 0.9, acc  = 96% (3rd highest)\n",
    "#  2 h layers L1, L2 = 784,784, steps = 9001 with bs = 800 and dp 0.9, acc  = 95.9%\n",
    "#  2 h layers L1, L2 = 4096,2048, steps = 9001 with bs = 800 and dp 0.9, acc  = 96.2% (2nd highest)\n",
    "\n",
    "# AdamOptimizer(0.0001) \n",
    "#  2 h layers L1, L2 = 784,392, steps = 9001 with bs = 400 and dp 0.9, acc  = 95.6%\n",
    "\n",
    "# AdaGrad() exponential decay start with 0.5\n",
    "#  2 h layers L1, L2 = 1024,512, steps = 9001 with bs = 400 and dp 0.9, acc  = 95.5%\n",
    "\n",
    "batch_size = 800\n",
    "L1 = 1568\n",
    "L2 = 784\n",
    "L3 = 512\n",
    "# L4 = 784\n",
    "LL = 10\n",
    "\n",
    "\n",
    "graph = tf.Graph()\n",
    "with graph.as_default():\n",
    "\n",
    "  # Input data. For the training data, we use a placeholder that will be fed\n",
    "  # at run time with a training minibatch.\n",
    "  tf_train_dataset = tf.placeholder(tf.float32, shape=(batch_size, image_size * image_size))\n",
    "  tf_train_labels = tf.placeholder(tf.float32, shape=(batch_size, num_labels))\n",
    "  tf_valid_dataset = tf.constant(valid_dataset)\n",
    "  tf_test_dataset = tf.constant(test_dataset)\n",
    "  \n",
    "  # Variables and bias 1st layer\n",
    "  weights1 = tf.Variable(tf.truncated_normal([image_size * image_size, L1], stddev=np.sqrt(2/(image_size*image_size))))\n",
    "  biases1 = tf.Variable(tf.ones([L1])/10)\n",
    "  # 2nd layer variables and bias      \n",
    "  weights2 = tf.Variable(tf.truncated_normal([L1, L2], stddev=np.sqrt(2/L1)))\n",
    "  biases2 = tf.Variable(tf.ones([L2])/10)\n",
    "  # 3nd layer variables and bias  \n",
    "  weights3 = tf.Variable(tf.truncated_normal([L2, L3], stddev=np.sqrt(2/L2)))\n",
    "  biases3 = tf.Variable(tf.ones([L3])/10)\n",
    "#   # 4nd layer variables and bias   \n",
    "#   weights4 = tf.Variable(tf.truncated_normal([L3, L4], stddev=np.sqrt(2/L3)))\n",
    "#   biases4 = tf.Variable(tf.ones([L4])/10)\n",
    "  # last layer variables and bias  \n",
    "  weightsLL = tf.Variable(tf.truncated_normal([L3, LL], stddev=np.sqrt(2/L2)))\n",
    "  biasesLL = tf.Variable(tf.zeros([LL]))\n",
    "\n",
    "  pkeep = tf.placeholder(tf.float32)\n",
    "  \n",
    "  # Training computation with dropout\n",
    "  Y1 = tf.nn.relu(tf.matmul(tf_train_dataset, weights1) + biases1)\n",
    "  Y1d = tf.nn.dropout(Y1, pkeep)\n",
    "  Y2 = tf.nn.relu(tf.matmul(Y1d, weights2) + biases2) \n",
    "  Y2d = tf.nn.dropout(Y2, pkeep)\n",
    "  Y3 = tf.nn.relu(tf.matmul(Y2d, weights3) + biases3)\n",
    "  Y3d = tf.nn.dropout(Y3, pkeep)\n",
    "#   Y4 = tf.nn.relu(tf.matmul(Y3d, weights4) + biases4)\n",
    "#   Y4d = tf.nn.dropout(Y4, pkeep)\n",
    "\n",
    "  logits = tf.matmul(Y3d, weightsLL) + biasesLL\n",
    "  loss = tf.reduce_mean(tf.nn.softmax_cross_entropy_with_logits(labels=tf_train_labels, logits=logits))\n",
    "\n",
    "\n",
    "  # Validation Computation\n",
    "  Y1_valid = tf.nn.relu(tf.matmul(tf_valid_dataset, weights1) + biases1)\n",
    "  Y2_valid = tf.nn.relu(tf.matmul(Y1_valid, weights2) + biases2)\n",
    "  Y3_valid = tf.nn.relu(tf.matmul(Y2_valid, weights3) + biases3)\n",
    "#   Y4_valid = tf.nn.relu(tf.matmul(Y3_valid, weights4) + biases4)\n",
    "  logits_valid = tf.matmul(Y3_valid, weightsLL) + biasesLL\n",
    "  # Test Computation\n",
    "  Y1_test = tf.nn.relu(tf.matmul(tf_test_dataset, weights1) + biases1)\n",
    "  Y2_test = tf.nn.relu(tf.matmul(Y1_test, weights2) + biases2)\n",
    "  Y3_test = tf.nn.relu(tf.matmul(Y2_test, weights3) + biases3)\n",
    "#   Y4_test = tf.nn.relu(tf.matmul(Y3_test, weights4) + biases4)\n",
    "  logits_test = tf.matmul(Y3_test, weightsLL) + biasesLL\n",
    "    \n",
    "    \n",
    "  # learn with exponential rate decay\n",
    "  batch = tf.Variable(0)\n",
    "  train_size = train_labels.shape[0]\n",
    "  learning_rate = tf.train.exponential_decay(0.4, \n",
    "                                               batch * batch_size, \n",
    "                                               train_size,\n",
    "                                               0.99,\n",
    "                                               staircase = True)\n",
    "\n",
    "  optimizer = tf.train.GradientDescentOptimizer(learning_rate).minimize(loss, global_step=batch)\n",
    "  \n",
    "  \n",
    "  # Optimizer.\n",
    "#   optimizer = tf.train.GradientDescentOptimizer(0.5).minimize(loss)\n",
    "  \n",
    "  # Predictions for the training, validation, and test data.\n",
    "  train_prediction = tf.nn.softmax(logits)\n",
    "  valid_prediction = tf.nn.softmax(logits_valid)\n",
    "  test_prediction = tf.nn.softmax(logits_test)\n"
   ]
  },
  {
   "cell_type": "code",
   "execution_count": 201,
   "metadata": {
    "scrolled": true
   },
   "outputs": [
    {
     "name": "stdout",
     "output_type": "stream",
     "text": [
      "Initialized\n",
      "Minibatch loss at step 0: 2.908488\n",
      "Minibatch accuracy: 8.6%\n",
      "Validation accuracy: 21.6%\n",
      "Minibatch loss at step 500: 0.538276\n",
      "Minibatch accuracy: 82.8%\n",
      "Validation accuracy: 86.0%\n",
      "Minibatch loss at step 1000: 0.422125\n",
      "Minibatch accuracy: 86.5%\n",
      "Validation accuracy: 87.5%\n",
      "Minibatch loss at step 1500: 0.409215\n",
      "Minibatch accuracy: 88.1%\n",
      "Validation accuracy: 88.6%\n",
      "Minibatch loss at step 2000: 0.382618\n",
      "Minibatch accuracy: 87.9%\n",
      "Validation accuracy: 89.2%\n",
      "Minibatch loss at step 2500: 0.416478\n",
      "Minibatch accuracy: 87.4%\n",
      "Validation accuracy: 89.8%\n",
      "Minibatch loss at step 3000: 0.365836\n",
      "Minibatch accuracy: 88.2%\n",
      "Validation accuracy: 90.1%\n",
      "Minibatch loss at step 3500: 0.342874\n",
      "Minibatch accuracy: 89.2%\n",
      "Validation accuracy: 90.2%\n",
      "Minibatch loss at step 4000: 0.307809\n",
      "Minibatch accuracy: 89.6%\n",
      "Validation accuracy: 90.5%\n",
      "Minibatch loss at step 4500: 0.303645\n",
      "Minibatch accuracy: 89.9%\n",
      "Validation accuracy: 90.7%\n",
      "Minibatch loss at step 5000: 0.320735\n",
      "Minibatch accuracy: 89.8%\n",
      "Validation accuracy: 91.0%\n",
      "Minibatch loss at step 5500: 0.279926\n",
      "Minibatch accuracy: 92.1%\n",
      "Validation accuracy: 91.0%\n",
      "Minibatch loss at step 6000: 0.257154\n",
      "Minibatch accuracy: 92.1%\n",
      "Validation accuracy: 91.1%\n",
      "Minibatch loss at step 6500: 0.297325\n",
      "Minibatch accuracy: 90.2%\n",
      "Validation accuracy: 91.0%\n",
      "Minibatch loss at step 7000: 0.279627\n",
      "Minibatch accuracy: 91.9%\n",
      "Validation accuracy: 91.2%\n",
      "Minibatch loss at step 7500: 0.283414\n",
      "Minibatch accuracy: 91.6%\n",
      "Validation accuracy: 91.3%\n",
      "Minibatch loss at step 8000: 0.304428\n",
      "Minibatch accuracy: 90.2%\n",
      "Validation accuracy: 91.3%\n",
      "Minibatch loss at step 8500: 0.235396\n",
      "Minibatch accuracy: 92.1%\n",
      "Validation accuracy: 91.3%\n",
      "Minibatch loss at step 9000: 0.272274\n",
      "Minibatch accuracy: 91.2%\n",
      "Validation accuracy: 91.4%\n",
      "Test accuracy: 95.9%\n"
     ]
    }
   ],
   "source": [
    "num_steps = 9001\n",
    "#3001\n",
    "with tf.Session(graph=graph) as session:\n",
    "  tf.global_variables_initializer().run()\n",
    "  print(\"Initialized\")\n",
    "  for step in range(num_steps):\n",
    "    # Pick an offset within the training data, which has been randomized.\n",
    "    # Note: we could use better randomization across epochs.\n",
    "    offset = (step * batch_size) % (train_labels.shape[0] - batch_size)\n",
    "    # the line below makes the loop running only over the first 5 batches of the training dataset\n",
    "    # which leads to overfitting as training accuracy becomes 100% and test accuracy goes down to 86.3%\n",
    "    # offset = (step %5 * batch_size) % (train_labels.shape[0] - batch_size)\n",
    "    # Generate a minibatch.\n",
    "    batch_data = train_dataset[offset:(offset + batch_size), :]\n",
    "    batch_labels = train_labels[offset:(offset + batch_size), :]\n",
    "    # Prepare a dictionary telling the session where to feed the minibatch.\n",
    "    # The key of the dictionary is the placeholder node of the graph to be fed,\n",
    "    # and the value is the numpy array to feed to it.\n",
    "    feed_dict = {tf_train_dataset : batch_data, tf_train_labels : batch_labels, pkeep : 0.5}\n",
    "    _, l, predictions = session.run(\n",
    "      [optimizer, loss, train_prediction], feed_dict=feed_dict)\n",
    "    if (step % 500 == 0):\n",
    "      print(\"Minibatch loss at step %d: %f\" % (step, l))\n",
    "      print(\"Minibatch accuracy: %.1f%%\" % accuracy(predictions, batch_labels))\n",
    "      print(\"Validation accuracy: %.1f%%\" % accuracy(\n",
    "        valid_prediction.eval(), valid_labels))\n",
    "  print(\"Test accuracy: %.1f%%\" % accuracy(test_prediction.eval(), test_labels))"
   ]
  },
  {
   "cell_type": "code",
   "execution_count": null,
   "metadata": {
    "collapsed": true
   },
   "outputs": [],
   "source": []
  },
  {
   "cell_type": "code",
   "execution_count": null,
   "metadata": {
    "collapsed": true
   },
   "outputs": [],
   "source": []
  },
  {
   "cell_type": "code",
   "execution_count": null,
   "metadata": {
    "collapsed": true
   },
   "outputs": [],
   "source": []
  }
 ],
 "metadata": {
  "colab": {
   "default_view": {},
   "name": "3_regularization.ipynb",
   "provenance": [],
   "version": "0.3.2",
   "views": {}
  },
  "kernelspec": {
   "display_name": "Python 3",
   "language": "python",
   "name": "python3"
  },
  "language_info": {
   "codemirror_mode": {
    "name": "ipython",
    "version": 3
   },
   "file_extension": ".py",
   "mimetype": "text/x-python",
   "name": "python",
   "nbconvert_exporter": "python",
   "pygments_lexer": "ipython3",
   "version": "3.5.3"
  }
 },
 "nbformat": 4,
 "nbformat_minor": 1
}
